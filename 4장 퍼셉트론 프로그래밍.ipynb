{
 "cells": [
  {
   "cell_type": "markdown",
   "id": "79de1fa9",
   "metadata": {},
   "source": [
    "## OR 데이터 인식"
   ]
  },
  {
   "cell_type": "code",
   "execution_count": 1,
   "id": "b4384bba",
   "metadata": {},
   "outputs": [],
   "source": [
    "from sklearn.linear_model import Perceptron"
   ]
  },
  {
   "cell_type": "code",
   "execution_count": 2,
   "id": "2094d4d0",
   "metadata": {},
   "outputs": [],
   "source": [
    "#훈련 집합 구축\n",
    "x=[[0,0],[0,1],[1,0],[1,1]]\n",
    "y=[-1,1,1,1]"
   ]
  },
  {
   "cell_type": "code",
   "execution_count": 4,
   "id": "d75754b8",
   "metadata": {},
   "outputs": [
    {
     "data": {
      "text/plain": [
       "Perceptron()"
      ]
     },
     "execution_count": 4,
     "metadata": {},
     "output_type": "execute_result"
    }
   ],
   "source": [
    "#fit 함수로 perceptron 학습\n",
    "p=Perceptron()    #perceptron 함수 호출하여 객체 p에 저장\n",
    "p.fit(x,y)        #fit 함수로 x와 y에 대한 학습을 수행한다."
   ]
  },
  {
   "cell_type": "code",
   "execution_count": 5,
   "id": "cfaacbb2",
   "metadata": {},
   "outputs": [
    {
     "name": "stdout",
     "output_type": "stream",
     "text": [
      "학습된 퍼셉트론의 매개변수:  [[2. 2.]] [-1.]\n"
     ]
    }
   ],
   "source": [
    "print(\"학습된 퍼셉트론의 매개변수: \",p.coef_,p.intercept_)  #학습을 마친 퍼셉트론의 매개변수, 즉 가중치 w0,w1,w2를 출력한다.\n",
    "#coef_: w1,w2 , intercept_ : w0"
   ]
  },
  {
   "cell_type": "code",
   "execution_count": 6,
   "id": "11d8f0d7",
   "metadata": {},
   "outputs": [
    {
     "name": "stdout",
     "output_type": "stream",
     "text": [
      "훈련집합에 대한 예측:  [-1  1  1  1]\n"
     ]
    }
   ],
   "source": [
    "print(\"훈련집합에 대한 예측: \",p.predict(x)) #predict 함수를 사용해 훈련집합x를 테스트용으로 간주하고 예측을 수행한다."
   ]
  },
  {
   "cell_type": "code",
   "execution_count": 7,
   "id": "ec3e16e9",
   "metadata": {},
   "outputs": [
    {
     "name": "stdout",
     "output_type": "stream",
     "text": [
      "정확률 측정:  100.0 %\n"
     ]
    }
   ],
   "source": [
    "print(\"정확률 측정: \",p.score(x,y)*100,\"%\") #score 함수는 x를 퍼셉트론으로 예측한 값과 y(레이블)을 비교하여 맞힌 샘플 개수를 세어 정확률을 계산한다."
   ]
  },
  {
   "cell_type": "markdown",
   "id": "8d47193e",
   "metadata": {},
   "source": [
    "## 필기 숫자 데이터 인식"
   ]
  },
  {
   "cell_type": "code",
   "execution_count": 8,
   "id": "c1ad0c0b",
   "metadata": {},
   "outputs": [],
   "source": [
    "from sklearn import datasets\n",
    "from sklearn.linear_model import Perceptron\n",
    "from sklearn.model_selection import train_test_split\n",
    "import numpy as np"
   ]
  },
  {
   "cell_type": "code",
   "execution_count": 9,
   "id": "190a87e3",
   "metadata": {},
   "outputs": [],
   "source": [
    "#데이터셋을 읽고 훈련집합과 테스트집합으로 분할\n",
    "digit=datasets.load_digits()\n",
    "x_train,x_test,y_train,y_test=train_test_split(digit.data,digit.target,train_size=0.6)"
   ]
  },
  {
   "cell_type": "code",
   "execution_count": 10,
   "id": "75910779",
   "metadata": {},
   "outputs": [],
   "source": [
    "#fit 함수로 Perceptron 학습\n",
    "p=Perceptron(max_iter=100,eta0=0.001,verbose=0) #"
   ]
  },
  {
   "cell_type": "code",
   "execution_count": null,
   "id": "0172434c",
   "metadata": {},
   "outputs": [],
   "source": []
  }
 ],
 "metadata": {
  "kernelspec": {
   "display_name": "Python 3 (ipykernel)",
   "language": "python",
   "name": "python3"
  },
  "language_info": {
   "codemirror_mode": {
    "name": "ipython",
    "version": 3
   },
   "file_extension": ".py",
   "mimetype": "text/x-python",
   "name": "python",
   "nbconvert_exporter": "python",
   "pygments_lexer": "ipython3",
   "version": "3.9.7"
  }
 },
 "nbformat": 4,
 "nbformat_minor": 5
}
