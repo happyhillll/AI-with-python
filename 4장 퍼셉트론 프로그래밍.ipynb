{
 "cells": [
  {
   "cell_type": "markdown",
   "id": "79de1fa9",
   "metadata": {},
   "source": [
    "## OR 데이터 인식"
   ]
  },
  {
   "cell_type": "markdown",
   "id": "8a0ea298",
   "metadata": {},
   "source": [
    "# 사이킷 런의 디자인 패턴\n",
    "\n",
    "- 데이터 읽기\n",
    "- 모델 객체 생성\n",
    "- 모델 학습\n",
    "- 예측\n",
    "- 성능 평가"
   ]
  },
  {
   "cell_type": "code",
   "execution_count": 1,
   "id": "b4384bba",
   "metadata": {},
   "outputs": [],
   "source": [
    "from sklearn.linear_model import Perceptron"
   ]
  },
  {
   "cell_type": "code",
   "execution_count": 2,
   "id": "2094d4d0",
   "metadata": {},
   "outputs": [],
   "source": [
    "#훈련 집합 구축\n",
    "x=[[0,0],[0,1],[1,0],[1,1]]\n",
    "y=[-1,1,1,1]"
   ]
  },
  {
   "cell_type": "code",
   "execution_count": 4,
   "id": "d75754b8",
   "metadata": {},
   "outputs": [
    {
     "data": {
      "text/plain": [
       "Perceptron()"
      ]
     },
     "execution_count": 4,
     "metadata": {},
     "output_type": "execute_result"
    }
   ],
   "source": [
    "#fit 함수로 perceptron 학습\n",
    "p=Perceptron()    #perceptron 함수 호출하여 객체 p에 저장\n",
    "p.fit(x,y)        #fit 함수로 x와 y에 대한 학습을 수행한다."
   ]
  },
  {
   "cell_type": "code",
   "execution_count": 5,
   "id": "cfaacbb2",
   "metadata": {},
   "outputs": [
    {
     "name": "stdout",
     "output_type": "stream",
     "text": [
      "학습된 퍼셉트론의 매개변수:  [[2. 2.]] [-1.]\n"
     ]
    }
   ],
   "source": [
    "print(\"학습된 퍼셉트론의 매개변수: \",p.coef_,p.intercept_)  #학습을 마친 퍼셉트론의 매개변수, 즉 가중치 w0,w1,w2를 출력한다.\n",
    "#coef_: w1,w2 , intercept_ : w0"
   ]
  },
  {
   "cell_type": "code",
   "execution_count": 6,
   "id": "11d8f0d7",
   "metadata": {},
   "outputs": [
    {
     "name": "stdout",
     "output_type": "stream",
     "text": [
      "훈련집합에 대한 예측:  [-1  1  1  1]\n"
     ]
    }
   ],
   "source": [
    "print(\"훈련집합에 대한 예측: \",p.predict(x)) #predict 함수를 사용해 훈련집합x를 테스트용으로 간주하고 예측을 수행한다."
   ]
  },
  {
   "cell_type": "code",
   "execution_count": 7,
   "id": "ec3e16e9",
   "metadata": {},
   "outputs": [
    {
     "name": "stdout",
     "output_type": "stream",
     "text": [
      "정확률 측정:  100.0 %\n"
     ]
    }
   ],
   "source": [
    "print(\"정확률 측정: \",p.score(x,y)*100,\"%\") #score 함수는 x를 퍼셉트론으로 예측한 값과 y(레이블)을 비교하여 맞힌 샘플 개수를 세어 정확률을 계산한다."
   ]
  },
  {
   "cell_type": "markdown",
   "id": "8d47193e",
   "metadata": {},
   "source": [
    "## 필기 숫자 데이터 인식"
   ]
  },
  {
   "cell_type": "code",
   "execution_count": 1,
   "id": "c1ad0c0b",
   "metadata": {},
   "outputs": [],
   "source": [
    "from sklearn import datasets\n",
    "from sklearn.linear_model import Perceptron\n",
    "from sklearn.model_selection import train_test_split\n",
    "import numpy as np"
   ]
  },
  {
   "cell_type": "code",
   "execution_count": 2,
   "id": "190a87e3",
   "metadata": {},
   "outputs": [],
   "source": [
    "#데이터셋을 읽고 훈련집합과 테스트집합으로 분할\n",
    "digit=datasets.load_digits()\n",
    "x_train,x_test,y_train,y_test=train_test_split(digit.data,digit.target,train_size=0.6) #train_test_split 함수"
   ]
  },
  {
   "cell_type": "code",
   "execution_count": 3,
   "id": "75910779",
   "metadata": {},
   "outputs": [
    {
     "data": {
      "text/plain": [
       "Perceptron(eta0=0.001, max_iter=100)"
      ]
     },
     "execution_count": 3,
     "metadata": {},
     "output_type": "execute_result"
    }
   ],
   "source": [
    "#fit 함수로 Perceptron 학습\n",
    "p=Perceptron(max_iter=100,eta0=0.001,verbose=0) #모델 객체 생성 :sklearn의 perceptron 함수\n",
    "p.fit(x_train,y_train) #digit 데이터로 모델링 -> 모델 학습"
   ]
  },
  {
   "cell_type": "code",
   "execution_count": 4,
   "id": "0172434c",
   "metadata": {},
   "outputs": [],
   "source": [
    "res=p.predict(x_test) #테스트 집합으로 예측 > 학습된 모델로 예측"
   ]
  },
  {
   "cell_type": "markdown",
   "id": "fea4ac89",
   "metadata": {},
   "source": [
    "### 성능 측정"
   ]
  },
  {
   "cell_type": "code",
   "execution_count": 5,
   "id": "e431d752",
   "metadata": {},
   "outputs": [
    {
     "name": "stdout",
     "output_type": "stream",
     "text": [
      "[[66.  0.  0.  0.  0.  0.  0.  0.  0.  0.]\n",
      " [ 0. 61.  0.  0.  1.  0.  0.  0.  0.  1.]\n",
      " [ 0.  0. 75.  0.  0.  1.  0.  0.  0.  0.]\n",
      " [ 0.  0.  0. 63.  0.  0.  0.  0.  0.  0.]\n",
      " [ 0.  0.  0.  0. 71.  0.  0.  1.  0.  0.]\n",
      " [ 0.  0.  0.  4.  0. 79.  0.  0.  0.  2.]\n",
      " [ 0.  1.  0.  0.  1.  0. 65.  1.  1.  0.]\n",
      " [ 0.  0.  0.  0.  0.  0.  0. 62.  1.  0.]\n",
      " [ 0. 14.  2.  4.  2.  1.  1.  1. 70.  5.]\n",
      " [ 0.  1.  0.  1.  1.  0.  0.  1.  0. 58.]]\n"
     ]
    }
   ],
   "source": [
    "#혼동 행렬\n",
    "conf=np.zeros((10,10))\n",
    "for i in range(len(res)):\n",
    "    conf[res[i]][y_test[i]]+=1\n",
    "print(conf)"
   ]
  },
  {
   "cell_type": "code",
   "execution_count": 8,
   "id": "29ca4027",
   "metadata": {},
   "outputs": [
    {
     "name": "stdout",
     "output_type": "stream",
     "text": [
      "93.18497913769124 %\n"
     ]
    }
   ],
   "source": [
    "#정확률 계산\n",
    "no_correct=0\n",
    "for i in range(10):\n",
    "    no_correct+=conf[i][i]\n",
    "accuracy=no_correct/len(res)\n",
    "print(accuracy*100,\"%\")"
   ]
  },
  {
   "cell_type": "markdown",
   "id": "7fe89833",
   "metadata": {},
   "source": [
    "## 다층 퍼셉트론"
   ]
  },
  {
   "cell_type": "code",
   "execution_count": null,
   "id": "9e107626",
   "metadata": {},
   "outputs": [],
   "source": []
  }
 ],
 "metadata": {
  "kernelspec": {
   "display_name": "Python 3 (ipykernel)",
   "language": "python",
   "name": "python3"
  },
  "language_info": {
   "codemirror_mode": {
    "name": "ipython",
    "version": 3
   },
   "file_extension": ".py",
   "mimetype": "text/x-python",
   "name": "python",
   "nbconvert_exporter": "python",
   "pygments_lexer": "ipython3",
   "version": "3.9.7"
  }
 },
 "nbformat": 4,
 "nbformat_minor": 5
}
