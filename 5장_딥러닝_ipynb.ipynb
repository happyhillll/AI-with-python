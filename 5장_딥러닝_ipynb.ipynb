{
  "nbformat": 4,
  "nbformat_minor": 0,
  "metadata": {
    "colab": {
      "name": "5장 딥러닝 ipynb",
      "provenance": [],
      "authorship_tag": "ABX9TyOwwWeD+TW4ic/n/Ya25wqD",
      "include_colab_link": true
    },
    "kernelspec": {
      "name": "python3",
      "display_name": "Python 3"
    },
    "language_info": {
      "name": "python"
    }
  },
  "cells": [
    {
      "cell_type": "markdown",
      "metadata": {
        "id": "view-in-github",
        "colab_type": "text"
      },
      "source": [
        "<a href=\"https://colab.research.google.com/github/happyhillll/AI-with-python/blob/main/5%EC%9E%A5_%EB%94%A5%EB%9F%AC%EB%8B%9D_ipynb.ipynb\" target=\"_parent\"><img src=\"https://colab.research.google.com/assets/colab-badge.svg\" alt=\"Open In Colab\"/></a>"
      ]
    },
    {
      "cell_type": "code",
      "execution_count": 2,
      "metadata": {
        "id": "bJQJ3QkgtHhi"
      },
      "outputs": [],
      "source": [
        "import tensorflow as tf\n",
        "import tensorflow.keras.datasets as ds"
      ]
    },
    {
      "cell_type": "code",
      "source": [
        "#MNIST 읽고 텐서 모양 출력\n",
        "(x_train,y_train),(x_test,y_test)=ds.mnist.load_data()\n",
        "yy_train=tf.one_hot(y_train,10,dtype=tf.int8) #원핫코드로 변환\n",
        "print(\"MNIST: \",x_train.shape,y_train.shape,yy_train.shape)"
      ],
      "metadata": {
        "colab": {
          "base_uri": "https://localhost:8080/"
        },
        "id": "fCk-PUZ5tPVR",
        "outputId": "572fea3d-d234-4929-8f30-fa8ac3b71a48"
      },
      "execution_count": 8,
      "outputs": [
        {
          "output_type": "stream",
          "name": "stdout",
          "text": [
            "MNIST:  (60000, 28, 28) (60000,) (60000, 10)\n"
          ]
        }
      ]
    },
    {
      "cell_type": "code",
      "source": [
        "#CIFAR-10 읽고 텐서 모양 출력\n",
        "(x_train,y_train),(x_test,y_test)=ds.cifar10.load_data()\n",
        "yy_train=tf.one_hot(y_train,10,dtype=tf.int8) #원핫코드로 변환\n",
        "print(\"CIFAR-10: \",x_train.shape,y_train.shape,yy_train.shape)"
      ],
      "metadata": {
        "colab": {
          "base_uri": "https://localhost:8080/"
        },
        "id": "vJy1wrBst5ZW",
        "outputId": "e68dcd41-96c2-4e8a-a63e-daedf2b16c26"
      },
      "execution_count": 7,
      "outputs": [
        {
          "output_type": "stream",
          "name": "stdout",
          "text": [
            "CIFAR-10:  (50000, 32, 32, 3) (50000, 1) (50000, 1, 10)\n"
          ]
        }
      ]
    },
    {
      "cell_type": "code",
      "source": [
        "#Boston Housing 읽고 텐서 모양 출력\n",
        "(x_train,y_train),(x_test,y_test)=ds.boston_housing.load_data()\n",
        "yy_train=tf.one_hot(y_train,10,dtype=tf.int8) #원핫코드로 변환\n",
        "print(\"Boston Housing: \",x_train.shape,y_train.shape,yy_train.shape)"
      ],
      "metadata": {
        "colab": {
          "base_uri": "https://localhost:8080/"
        },
        "id": "fIM1cMcNuKNZ",
        "outputId": "b766bfbe-d4c3-4ecb-e3ab-c6b6c491526b"
      },
      "execution_count": 9,
      "outputs": [
        {
          "output_type": "stream",
          "name": "stdout",
          "text": [
            "Downloading data from https://storage.googleapis.com/tensorflow/tf-keras-datasets/boston_housing.npz\n",
            "57344/57026 [==============================] - 0s 0us/step\n",
            "65536/57026 [==================================] - 0s 0us/step\n",
            "Boston Housing:  (404, 13) (404,) (404, 10)\n"
          ]
        }
      ]
    },
    {
      "cell_type": "code",
      "source": [
        "#Reuters 읽고 텐서 모양 출력\n",
        "(x_train,y_train),(x_test,y_test)=ds.reuters.load_data()\n",
        "yy_train=tf.one_hot(y_train,10,dtype=tf.int8) #원핫코드로 변환\n",
        "print(\"Reuters: \",x_train.shape,y_train.shape,yy_train.shape)"
      ],
      "metadata": {
        "colab": {
          "base_uri": "https://localhost:8080/"
        },
        "id": "yNuT3TlkuasD",
        "outputId": "d47e07da-4c47-4840-93ae-720be9042d49"
      },
      "execution_count": 10,
      "outputs": [
        {
          "output_type": "stream",
          "name": "stdout",
          "text": [
            "Downloading data from https://storage.googleapis.com/tensorflow/tf-keras-datasets/reuters.npz\n",
            "2113536/2110848 [==============================] - 0s 0us/step\n",
            "2121728/2110848 [==============================] - 0s 0us/step\n",
            "Reuters:  (8982,) (8982,) (8982, 10)\n"
          ]
        }
      ]
    },
    {
      "cell_type": "markdown",
      "source": [
        "### 텐서플로로 퍼셉트론 프로그래밍"
      ],
      "metadata": {
        "id": "H1q3PnUQwEZJ"
      }
    },
    {
      "cell_type": "markdown",
      "source": [
        "#### OR 데이터 인식"
      ],
      "metadata": {
        "id": "5TjzFtYRwN2A"
      }
    },
    {
      "cell_type": "code",
      "source": [
        "import tensorflow as tf"
      ],
      "metadata": {
        "id": "z54OhafowIlz"
      },
      "execution_count": 11,
      "outputs": []
    },
    {
      "cell_type": "code",
      "source": [
        "#OR 데이터 구축\n",
        "x=[[0.0,0.0],[0.0,1.0],[1.0,0.0],[1.0,1.0]]\n",
        "y=[[-1],[1],[1],[1]]"
      ],
      "metadata": {
        "id": "COD27BF0wSkj"
      },
      "execution_count": 12,
      "outputs": []
    },
    {
      "cell_type": "code",
      "source": [
        "#퍼셉트론의 가중치 설정\n",
        "w=tf.Variable([[1.0],[1.0]])\n",
        "b=tf.Variable(-0.5)"
      ],
      "metadata": {
        "id": "MRQ9PTU9w55B"
      },
      "execution_count": 14,
      "outputs": []
    },
    {
      "cell_type": "markdown",
      "source": [
        "Variable : 신경망의 가중치"
      ],
      "metadata": {
        "id": "23Cuk5zFyBod"
      }
    },
    {
      "cell_type": "code",
      "source": [
        "#퍼셉트론 동작\n",
        "s=tf.add(tf.matmul(x,w),b) #matmul:두 행렬을 곱해줌\n",
        "o=tf.sign(s)"
      ],
      "metadata": {
        "id": "ln2X8tLuxiBq"
      },
      "execution_count": 15,
      "outputs": []
    },
    {
      "cell_type": "code",
      "source": [
        "print(o)"
      ],
      "metadata": {
        "colab": {
          "base_uri": "https://localhost:8080/"
        },
        "id": "QLpqkEkvxtp2",
        "outputId": "3b1ca7c8-cce4-498b-c718-cd86177838e9"
      },
      "execution_count": 16,
      "outputs": [
        {
          "output_type": "stream",
          "name": "stdout",
          "text": [
            "tf.Tensor(\n",
            "[[-1.]\n",
            " [ 1.]\n",
            " [ 1.]\n",
            " [ 1.]], shape=(4, 1), dtype=float32)\n"
          ]
        }
      ]
    },
    {
      "cell_type": "markdown",
      "source": [
        "### 퍼셉트론 학습"
      ],
      "metadata": {
        "id": "W1k40g0kyYwl"
      }
    },
    {
      "cell_type": "code",
      "source": [
        "import tensorflow as tf"
      ],
      "metadata": {
        "id": "mFVfsMJlxvLF"
      },
      "execution_count": 17,
      "outputs": []
    },
    {
      "cell_type": "code",
      "source": [
        "#OR 데이터 구축\n",
        "x=[[0.0,0.0],[0.0,1.0],[1.0,0.0],[1.0,1.0]]\n",
        "y=[[-1],[1],[1],[1]]\n",
        "\n",
        "#가중치 초기화 \n",
        "w=tf.Variable(tf.random.uniform([2,1],-0.5,0.5)) #-0.5와 0.5 사이ㅣ의 난수를 설정, 바이어스는 0\n",
        "b=tf.Variable(tf.zeros([1]))\n",
        "\n",
        "#옵티마이저\n",
        "opt=tf.keras.optimizers.SGD(learning_rate=0.1) #최적 알고리즘 : 경사 하강법 (SGD) 사용하여 객체 opt에 저장, 학습률 = 0.1\n",
        "\n",
        "#전방 계산\n",
        "def forward():\n",
        "  s=tf.add(tf.matmul(x,w),b)\n",
        "  o=tf.tanh(s)\n",
        "  return o\n",
        "\n",
        "#손실 함수 정의\n",
        "def loss():\n",
        "  o=forward()\n",
        "  return tf.reduce_mean((y-o)**2)\n",
        "\n",
        "#500세대까지 학습 (100세대마다 학습 정보 출력)\n",
        "for i in range(500):\n",
        "  opt.minimize(loss,var_list=[w,b])\n",
        "  if(i%100==0):print('loss at epoch',i,'=',loss().numpy())\n",
        "\n",
        "#학습된 퍼셉트론으로 OR데이터 예측\n",
        "o=forward()\n",
        "print(o)\n"
      ],
      "metadata": {
        "colab": {
          "base_uri": "https://localhost:8080/"
        },
        "id": "GkFAAij_ycYN",
        "outputId": "e7a28930-6bc5-466f-edb0-d2ddea8de33d"
      },
      "execution_count": 19,
      "outputs": [
        {
          "output_type": "stream",
          "name": "stdout",
          "text": [
            "loss at epoch 0 = 0.51427734\n",
            "loss at epoch 100 = 0.08471865\n",
            "loss at epoch 200 = 0.04053774\n",
            "loss at epoch 300 = 0.025842652\n",
            "loss at epoch 400 = 0.018746505\n",
            "tf.Tensor(\n",
            "[[-0.81779546]\n",
            " [ 0.8872358 ]\n",
            " [ 0.8872784 ]\n",
            " [ 0.99928474]], shape=(4, 1), dtype=float32)\n"
          ]
        }
      ]
    },
    {
      "cell_type": "code",
      "source": [
        ""
      ],
      "metadata": {
        "id": "4Clt2ajlyzRR"
      },
      "execution_count": null,
      "outputs": []
    }
  ]
}