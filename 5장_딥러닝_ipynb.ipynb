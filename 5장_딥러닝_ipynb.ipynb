{
  "nbformat": 4,
  "nbformat_minor": 0,
  "metadata": {
    "colab": {
      "name": "5장 딥러닝 ipynb",
      "provenance": [],
      "authorship_tag": "ABX9TyNo2J6X54sgj0OLX0cP9x7s",
      "include_colab_link": true
    },
    "kernelspec": {
      "name": "python3",
      "display_name": "Python 3"
    },
    "language_info": {
      "name": "python"
    }
  },
  "cells": [
    {
      "cell_type": "markdown",
      "metadata": {
        "id": "view-in-github",
        "colab_type": "text"
      },
      "source": [
        "<a href=\"https://colab.research.google.com/github/happyhillll/AI-with-python/blob/main/5%EC%9E%A5_%EB%94%A5%EB%9F%AC%EB%8B%9D_ipynb.ipynb\" target=\"_parent\"><img src=\"https://colab.research.google.com/assets/colab-badge.svg\" alt=\"Open In Colab\"/></a>"
      ]
    },
    {
      "cell_type": "code",
      "execution_count": 1,
      "metadata": {
        "id": "bJQJ3QkgtHhi"
      },
      "outputs": [],
      "source": [
        "import tensorflow as tf\n",
        "import tensorflow.keras.datasets as ds"
      ]
    },
    {
      "cell_type": "code",
      "source": [
        "#MNIST 읽고 텐서 모양 출력\n",
        "(x_train,y_train),(x_test,y_test)=ds.mnist.load_data()\n",
        "yy_train=tf.one_hot(y_train,10,dtype=tf.int8) #원핫코드로 변환\n",
        "print(\"MNIST: \",x_train.shape,y_train.shape,yy_train.shape)"
      ],
      "metadata": {
        "colab": {
          "base_uri": "https://localhost:8080/"
        },
        "id": "fCk-PUZ5tPVR",
        "outputId": "572fea3d-d234-4929-8f30-fa8ac3b71a48"
      },
      "execution_count": null,
      "outputs": [
        {
          "output_type": "stream",
          "name": "stdout",
          "text": [
            "MNIST:  (60000, 28, 28) (60000,) (60000, 10)\n"
          ]
        }
      ]
    },
    {
      "cell_type": "code",
      "source": [
        "#CIFAR-10 읽고 텐서 모양 출력\n",
        "(x_train,y_train),(x_test,y_test)=ds.cifar10.load_data()\n",
        "yy_train=tf.one_hot(y_train,10,dtype=tf.int8) #원핫코드로 변환\n",
        "print(\"CIFAR-10: \",x_train.shape,y_train.shape,yy_train.shape)"
      ],
      "metadata": {
        "colab": {
          "base_uri": "https://localhost:8080/"
        },
        "id": "vJy1wrBst5ZW",
        "outputId": "e68dcd41-96c2-4e8a-a63e-daedf2b16c26"
      },
      "execution_count": null,
      "outputs": [
        {
          "output_type": "stream",
          "name": "stdout",
          "text": [
            "CIFAR-10:  (50000, 32, 32, 3) (50000, 1) (50000, 1, 10)\n"
          ]
        }
      ]
    },
    {
      "cell_type": "code",
      "source": [
        "#Boston Housing 읽고 텐서 모양 출력\n",
        "(x_train,y_train),(x_test,y_test)=ds.boston_housing.load_data()\n",
        "yy_train=tf.one_hot(y_train,10,dtype=tf.int8) #원핫코드로 변환\n",
        "print(\"Boston Housing: \",x_train.shape,y_train.shape,yy_train.shape)"
      ],
      "metadata": {
        "colab": {
          "base_uri": "https://localhost:8080/"
        },
        "id": "fIM1cMcNuKNZ",
        "outputId": "b766bfbe-d4c3-4ecb-e3ab-c6b6c491526b"
      },
      "execution_count": null,
      "outputs": [
        {
          "output_type": "stream",
          "name": "stdout",
          "text": [
            "Downloading data from https://storage.googleapis.com/tensorflow/tf-keras-datasets/boston_housing.npz\n",
            "57344/57026 [==============================] - 0s 0us/step\n",
            "65536/57026 [==================================] - 0s 0us/step\n",
            "Boston Housing:  (404, 13) (404,) (404, 10)\n"
          ]
        }
      ]
    },
    {
      "cell_type": "code",
      "source": [
        "#Reuters 읽고 텐서 모양 출력\n",
        "(x_train,y_train),(x_test,y_test)=ds.reuters.load_data()\n",
        "yy_train=tf.one_hot(y_train,10,dtype=tf.int8) #원핫코드로 변환\n",
        "print(\"Reuters: \",x_train.shape,y_train.shape,yy_train.shape)"
      ],
      "metadata": {
        "colab": {
          "base_uri": "https://localhost:8080/"
        },
        "id": "yNuT3TlkuasD",
        "outputId": "d47e07da-4c47-4840-93ae-720be9042d49"
      },
      "execution_count": null,
      "outputs": [
        {
          "output_type": "stream",
          "name": "stdout",
          "text": [
            "Downloading data from https://storage.googleapis.com/tensorflow/tf-keras-datasets/reuters.npz\n",
            "2113536/2110848 [==============================] - 0s 0us/step\n",
            "2121728/2110848 [==============================] - 0s 0us/step\n",
            "Reuters:  (8982,) (8982,) (8982, 10)\n"
          ]
        }
      ]
    },
    {
      "cell_type": "markdown",
      "source": [
        "### 텐서플로로 퍼셉트론 프로그래밍"
      ],
      "metadata": {
        "id": "H1q3PnUQwEZJ"
      }
    },
    {
      "cell_type": "markdown",
      "source": [
        "#### OR 데이터 인식"
      ],
      "metadata": {
        "id": "5TjzFtYRwN2A"
      }
    },
    {
      "cell_type": "code",
      "source": [
        "import tensorflow as tf"
      ],
      "metadata": {
        "id": "z54OhafowIlz"
      },
      "execution_count": 2,
      "outputs": []
    },
    {
      "cell_type": "code",
      "source": [
        "#OR 데이터 구축\n",
        "x=[[0.0,0.0],[0.0,1.0],[1.0,0.0],[1.0,1.0]]\n",
        "y=[[-1],[1],[1],[1]]"
      ],
      "metadata": {
        "id": "COD27BF0wSkj"
      },
      "execution_count": 3,
      "outputs": []
    },
    {
      "cell_type": "code",
      "source": [
        "#퍼셉트론의 가중치 설정\n",
        "w=tf.Variable([[1.0],[1.0]])\n",
        "b=tf.Variable(-0.5)"
      ],
      "metadata": {
        "id": "MRQ9PTU9w55B"
      },
      "execution_count": 4,
      "outputs": []
    },
    {
      "cell_type": "markdown",
      "source": [
        "Variable : 신경망의 가중치"
      ],
      "metadata": {
        "id": "23Cuk5zFyBod"
      }
    },
    {
      "cell_type": "code",
      "source": [
        "#퍼셉트론 동작\n",
        "s=tf.add(tf.matmul(x,w),b) #matmul:두 행렬을 곱해줌\n",
        "o=tf.sign(s)"
      ],
      "metadata": {
        "id": "ln2X8tLuxiBq"
      },
      "execution_count": null,
      "outputs": []
    },
    {
      "cell_type": "code",
      "source": [
        "print(o)"
      ],
      "metadata": {
        "colab": {
          "base_uri": "https://localhost:8080/"
        },
        "id": "QLpqkEkvxtp2",
        "outputId": "3b1ca7c8-cce4-498b-c718-cd86177838e9"
      },
      "execution_count": null,
      "outputs": [
        {
          "output_type": "stream",
          "name": "stdout",
          "text": [
            "tf.Tensor(\n",
            "[[-1.]\n",
            " [ 1.]\n",
            " [ 1.]\n",
            " [ 1.]], shape=(4, 1), dtype=float32)\n"
          ]
        }
      ]
    },
    {
      "cell_type": "markdown",
      "source": [
        "### 퍼셉트론 학습"
      ],
      "metadata": {
        "id": "W1k40g0kyYwl"
      }
    },
    {
      "cell_type": "code",
      "source": [
        "import tensorflow as tf"
      ],
      "metadata": {
        "id": "mFVfsMJlxvLF"
      },
      "execution_count": 5,
      "outputs": []
    },
    {
      "cell_type": "code",
      "source": [
        "#OR 데이터 구축\n",
        "x=[[0.0,0.0],[0.0,1.0],[1.0,0.0],[1.0,1.0]]\n",
        "y=[[-1],[1],[1],[1]]\n",
        "\n",
        "#가중치 초기화 \n",
        "w=tf.Variable(tf.random.uniform([2,1],-0.5,0.5)) #-0.5와 0.5 사이ㅣ의 난수를 설정, 바이어스는 0\n",
        "b=tf.Variable(tf.zeros([1]))\n",
        "\n",
        "#옵티마이저\n",
        "opt=tf.keras.optimizers.SGD(learning_rate=0.1) #최적 알고리즘 : 경사 하강법 (SGD) 사용하여 객체 opt에 저장, 학습률 = 0.1\n",
        "\n",
        "#전방 계산\n",
        "def forward():\n",
        "  s=tf.add(tf.matmul(x,w),b) #matmul 함수 : 두 행렬을 곱해준다. \n",
        "  o=tf.tanh(s)  #계단 함수는 불연속점이 있어 미분이 어려움\n",
        "  return o\n",
        "\n",
        "#손실 함수 정의\n",
        "def loss():\n",
        "  o=forward()\n",
        "  return tf.reduce_mean((y-o)**2)\n",
        "\n",
        "#500세대까지 학습 (100세대마다 학습 정보 출력)\n",
        "for i in range(500):\n",
        "  opt.minimize(loss,var_list=[w,b])\n",
        "  if(i%100==0):print('loss at epoch',i,'=',loss().numpy())\n",
        "\n",
        "#학습된 퍼셉트론으로 OR데이터 예측\n",
        "o=forward()\n",
        "print(o)\n"
      ],
      "metadata": {
        "colab": {
          "base_uri": "https://localhost:8080/"
        },
        "id": "GkFAAij_ycYN",
        "outputId": "a52fa7b2-33e6-47ef-9cc4-dc245984fef2"
      },
      "execution_count": 6,
      "outputs": [
        {
          "output_type": "stream",
          "name": "stdout",
          "text": [
            "loss at epoch 0 = 0.91236615\n",
            "loss at epoch 100 = 0.09476658\n",
            "loss at epoch 200 = 0.043055438\n",
            "loss at epoch 300 = 0.026907288\n",
            "loss at epoch 400 = 0.019320048\n",
            "tf.Tensor(\n",
            "[[-0.8155707 ]\n",
            " [ 0.88591003]\n",
            " [ 0.8859202 ]\n",
            " [ 0.9992568 ]], shape=(4, 1), dtype=float32)\n"
          ]
        }
      ]
    },
    {
      "cell_type": "markdown",
      "source": [
        "## MNIST 인식 \n",
        "> 텐서플로로 다층 퍼셉트론 프로그래밍"
      ],
      "metadata": {
        "id": "zsjQG4i5JKwb"
      }
    },
    {
      "cell_type": "code",
      "source": [
        "import numpy as np\n",
        "import tensorflow as tf\n",
        "from tensorflow.keras.datasets import mnist"
      ],
      "metadata": {
        "id": "4Clt2ajlyzRR"
      },
      "execution_count": 7,
      "outputs": []
    },
    {
      "cell_type": "code",
      "source": [
        "from tensorflow.keras.models import Sequential # models,layers,optimizers 불러오기\n",
        "from tensorflow.keras.layers import Dense\n",
        "from tensorflow.keras.optimizers import Adam"
      ],
      "metadata": {
        "id": "6tzDi0OcJaW4"
      },
      "execution_count": 8,
      "outputs": []
    },
    {
      "cell_type": "code",
      "source": [
        "#MNIST 읽어 와서 신경망에 입력할 형태로 변환\n",
        "(x_train,y_train),(x_test,y_test)=mnist.load_data()\n",
        "x_train=x_train.reshape(60000,784)  #텐서 모양 변환 : 28x28 크기의 2차원 텐서를 1차원 텐서로 변환\n",
        "x_test=x_test.reshape(10000,784)\n",
        "x_train=x_train.astype(np.float32)/255.0 #ndarray로 변환 : 정수를 실수형으로 바꾸고 > [0,255] 범위를 [0,1] 범위로 정규화 한다.\n",
        "x_test=x_test.astype(np.float32)/255.0\n",
        "y_train=tf.keras.utils.to_categorical(y_train,10) # 레이블을 원핫 코드로 변환한다.\n",
        "y_test=tf.keras.utils.to_categorical(y_test,10)"
      ],
      "metadata": {
        "id": "8gc-In5wJkir"
      },
      "execution_count": 12,
      "outputs": []
    },
    {
      "cell_type": "code",
      "source": [
        "#신경망 구조 설계\n",
        "\n",
        "#노드 개수 정하기\n",
        "n_input=784 #입력층\n",
        "n_hidden=1024 #은닉층\n",
        "n_output=10 #출력층"
      ],
      "metadata": {
        "id": "8dq9nM--J0Un"
      },
      "execution_count": 13,
      "outputs": []
    },
    {
      "cell_type": "code",
      "source": [
        "#모델을 생성하고 두 층을 쌓는다\n",
        "mlp=Sequential()\n",
        "mlp.add(Dense(units=n_hidden,activation='tanh',input_shape=(n_input,),\n",
        "              kernel_initializer='random_uniform',bias_initializer='zeros')) #은닉층을 추가> input_shape:입력층을 설정, units:현재 쌓고 있는 은닉층 설정\n",
        "mlp.add(Dense(units=n_output,activation='tanh',\n",
        "              kernel_initializer='random_uniform',bias_initializer='zeros')) #출력층 추가"
      ],
      "metadata": {
        "id": "_GSt4OcSKjB3"
      },
      "execution_count": 15,
      "outputs": []
    },
    {
      "cell_type": "code",
      "source": [
        "#신경망 학습\n",
        "mlp.compile(loss='mean_squared_error',optimizer=Adam(learning_rate=0.001), \n",
        "            metrics=['accuracy']) \n",
        "hist=mlp.fit(x_train,y_train,batch_size=128,epochs=30,validation_data=(x_test,y_test),verbose=2) #hist로 학습 곡선을 그린다. 학습 도중에 테스트 집합을 검증 용도로 사용한다."
      ],
      "metadata": {
        "colab": {
          "base_uri": "https://localhost:8080/"
        },
        "id": "LDpaO8ONK6Ci",
        "outputId": "dff816ba-68d8-491c-e0c9-98081b3e6dde"
      },
      "execution_count": 16,
      "outputs": [
        {
          "output_type": "stream",
          "name": "stdout",
          "text": [
            "Epoch 1/30\n",
            "469/469 - 11s - loss: 0.0428 - accuracy: 0.8444 - val_loss: 0.0284 - val_accuracy: 0.9134 - 11s/epoch - 22ms/step\n",
            "Epoch 2/30\n",
            "469/469 - 10s - loss: 0.0223 - accuracy: 0.9304 - val_loss: 0.0181 - val_accuracy: 0.9464 - 10s/epoch - 21ms/step\n",
            "Epoch 3/30\n",
            "469/469 - 10s - loss: 0.0165 - accuracy: 0.9485 - val_loss: 0.0145 - val_accuracy: 0.9517 - 10s/epoch - 21ms/step\n",
            "Epoch 4/30\n",
            "469/469 - 10s - loss: 0.0138 - accuracy: 0.9571 - val_loss: 0.0134 - val_accuracy: 0.9572 - 10s/epoch - 21ms/step\n",
            "Epoch 5/30\n",
            "469/469 - 9s - loss: 0.0122 - accuracy: 0.9635 - val_loss: 0.0122 - val_accuracy: 0.9607 - 9s/epoch - 20ms/step\n",
            "Epoch 6/30\n",
            "469/469 - 7s - loss: 0.0110 - accuracy: 0.9676 - val_loss: 0.0116 - val_accuracy: 0.9615 - 7s/epoch - 15ms/step\n",
            "Epoch 7/30\n",
            "469/469 - 6s - loss: 0.0102 - accuracy: 0.9709 - val_loss: 0.0103 - val_accuracy: 0.9667 - 6s/epoch - 14ms/step\n",
            "Epoch 8/30\n",
            "469/469 - 6s - loss: 0.0095 - accuracy: 0.9733 - val_loss: 0.0102 - val_accuracy: 0.9676 - 6s/epoch - 14ms/step\n",
            "Epoch 9/30\n",
            "469/469 - 6s - loss: 0.0089 - accuracy: 0.9757 - val_loss: 0.0096 - val_accuracy: 0.9691 - 6s/epoch - 14ms/step\n",
            "Epoch 10/30\n",
            "469/469 - 6s - loss: 0.0085 - accuracy: 0.9774 - val_loss: 0.0094 - val_accuracy: 0.9696 - 6s/epoch - 14ms/step\n",
            "Epoch 11/30\n",
            "469/469 - 7s - loss: 0.0081 - accuracy: 0.9790 - val_loss: 0.0089 - val_accuracy: 0.9711 - 7s/epoch - 14ms/step\n",
            "Epoch 12/30\n",
            "469/469 - 6s - loss: 0.0078 - accuracy: 0.9802 - val_loss: 0.0087 - val_accuracy: 0.9721 - 6s/epoch - 14ms/step\n",
            "Epoch 13/30\n",
            "469/469 - 7s - loss: 0.0074 - accuracy: 0.9815 - val_loss: 0.0085 - val_accuracy: 0.9729 - 7s/epoch - 14ms/step\n",
            "Epoch 14/30\n",
            "469/469 - 6s - loss: 0.0071 - accuracy: 0.9826 - val_loss: 0.0086 - val_accuracy: 0.9728 - 6s/epoch - 14ms/step\n",
            "Epoch 15/30\n",
            "469/469 - 6s - loss: 0.0069 - accuracy: 0.9839 - val_loss: 0.0085 - val_accuracy: 0.9743 - 6s/epoch - 14ms/step\n",
            "Epoch 16/30\n",
            "469/469 - 7s - loss: 0.0067 - accuracy: 0.9846 - val_loss: 0.0088 - val_accuracy: 0.9748 - 7s/epoch - 14ms/step\n",
            "Epoch 17/30\n",
            "469/469 - 7s - loss: 0.0065 - accuracy: 0.9856 - val_loss: 0.0080 - val_accuracy: 0.9752 - 7s/epoch - 14ms/step\n",
            "Epoch 18/30\n",
            "469/469 - 7s - loss: 0.0063 - accuracy: 0.9862 - val_loss: 0.0077 - val_accuracy: 0.9749 - 7s/epoch - 14ms/step\n",
            "Epoch 19/30\n",
            "469/469 - 7s - loss: 0.0061 - accuracy: 0.9875 - val_loss: 0.0078 - val_accuracy: 0.9753 - 7s/epoch - 15ms/step\n",
            "Epoch 20/30\n",
            "469/469 - 8s - loss: 0.0059 - accuracy: 0.9880 - val_loss: 0.0078 - val_accuracy: 0.9746 - 8s/epoch - 17ms/step\n",
            "Epoch 21/30\n",
            "469/469 - 11s - loss: 0.0058 - accuracy: 0.9886 - val_loss: 0.0078 - val_accuracy: 0.9757 - 11s/epoch - 23ms/step\n",
            "Epoch 22/30\n",
            "469/469 - 8s - loss: 0.0056 - accuracy: 0.9891 - val_loss: 0.0077 - val_accuracy: 0.9752 - 8s/epoch - 18ms/step\n",
            "Epoch 23/30\n",
            "469/469 - 8s - loss: 0.0054 - accuracy: 0.9898 - val_loss: 0.0079 - val_accuracy: 0.9762 - 8s/epoch - 16ms/step\n",
            "Epoch 24/30\n",
            "469/469 - 6s - loss: 0.0054 - accuracy: 0.9900 - val_loss: 0.0078 - val_accuracy: 0.9766 - 6s/epoch - 14ms/step\n",
            "Epoch 25/30\n",
            "469/469 - 6s - loss: 0.0052 - accuracy: 0.9906 - val_loss: 0.0073 - val_accuracy: 0.9753 - 6s/epoch - 14ms/step\n",
            "Epoch 26/30\n",
            "469/469 - 6s - loss: 0.0051 - accuracy: 0.9909 - val_loss: 0.0079 - val_accuracy: 0.9760 - 6s/epoch - 14ms/step\n",
            "Epoch 27/30\n",
            "469/469 - 6s - loss: 0.0050 - accuracy: 0.9914 - val_loss: 0.0077 - val_accuracy: 0.9767 - 6s/epoch - 14ms/step\n",
            "Epoch 28/30\n",
            "469/469 - 7s - loss: 0.0049 - accuracy: 0.9918 - val_loss: 0.0074 - val_accuracy: 0.9773 - 7s/epoch - 14ms/step\n",
            "Epoch 29/30\n",
            "469/469 - 7s - loss: 0.0048 - accuracy: 0.9921 - val_loss: 0.0073 - val_accuracy: 0.9767 - 7s/epoch - 14ms/step\n",
            "Epoch 30/30\n",
            "469/469 - 7s - loss: 0.0048 - accuracy: 0.9923 - val_loss: 0.0072 - val_accuracy: 0.9763 - 7s/epoch - 14ms/step\n"
          ]
        }
      ]
    },
    {
      "cell_type": "code",
      "source": [
        "#성능 측정\n",
        "res=mlp.evaluate(x_test,y_test,verbose=0)\n",
        "print(\"정확률은\",res[1]*100)"
      ],
      "metadata": {
        "colab": {
          "base_uri": "https://localhost:8080/"
        },
        "id": "XYXo-jNpLjjU",
        "outputId": "ae0883a5-a552-46e8-8c05-7f17459ce96b"
      },
      "execution_count": 17,
      "outputs": [
        {
          "output_type": "stream",
          "name": "stdout",
          "text": [
            "정확률은 97.63000011444092\n"
          ]
        }
      ]
    },
    {
      "cell_type": "markdown",
      "source": [
        "## 학습 곡선 시각화"
      ],
      "metadata": {
        "id": "RUfMddIVPbCk"
      }
    },
    {
      "cell_type": "code",
      "source": [
        "import matplotlib.pyplot as plt"
      ],
      "metadata": {
        "id": "gUzen4KbLu1s"
      },
      "execution_count": 18,
      "outputs": []
    },
    {
      "cell_type": "code",
      "source": [
        "#정확률 곡선\n",
        "plt.plot(hist.history['accuracy'])\n",
        "plt.plot(hist.history['val_accuracy'])\n",
        "plt.title('모델 정확도')\n",
        "plt.ylabel('Accuracy')\n",
        "plt.xlabel('Epoch')\n",
        "plt.legend(['Train','Validation'],loc='upper left')\n",
        "plt.grid()\n",
        "plt.show()"
      ],
      "metadata": {
        "colab": {
          "base_uri": "https://localhost:8080/",
          "height": 651
        },
        "id": "hnhaIqSxPfdO",
        "outputId": "734307a8-0102-41d3-d5ac-4f5032ee69ee"
      },
      "execution_count": 19,
      "outputs": [
        {
          "output_type": "stream",
          "name": "stderr",
          "text": [
            "/usr/local/lib/python3.7/dist-packages/matplotlib/backends/backend_agg.py:214: RuntimeWarning: Glyph 47784 missing from current font.\n",
            "  font.set_text(s, 0.0, flags=flags)\n",
            "/usr/local/lib/python3.7/dist-packages/matplotlib/backends/backend_agg.py:214: RuntimeWarning: Glyph 45944 missing from current font.\n",
            "  font.set_text(s, 0.0, flags=flags)\n",
            "/usr/local/lib/python3.7/dist-packages/matplotlib/backends/backend_agg.py:214: RuntimeWarning: Glyph 51221 missing from current font.\n",
            "  font.set_text(s, 0.0, flags=flags)\n",
            "/usr/local/lib/python3.7/dist-packages/matplotlib/backends/backend_agg.py:214: RuntimeWarning: Glyph 54869 missing from current font.\n",
            "  font.set_text(s, 0.0, flags=flags)\n",
            "/usr/local/lib/python3.7/dist-packages/matplotlib/backends/backend_agg.py:214: RuntimeWarning: Glyph 46020 missing from current font.\n",
            "  font.set_text(s, 0.0, flags=flags)\n",
            "/usr/local/lib/python3.7/dist-packages/matplotlib/backends/backend_agg.py:183: RuntimeWarning: Glyph 47784 missing from current font.\n",
            "  font.set_text(s, 0, flags=flags)\n",
            "/usr/local/lib/python3.7/dist-packages/matplotlib/backends/backend_agg.py:183: RuntimeWarning: Glyph 45944 missing from current font.\n",
            "  font.set_text(s, 0, flags=flags)\n",
            "/usr/local/lib/python3.7/dist-packages/matplotlib/backends/backend_agg.py:183: RuntimeWarning: Glyph 51221 missing from current font.\n",
            "  font.set_text(s, 0, flags=flags)\n",
            "/usr/local/lib/python3.7/dist-packages/matplotlib/backends/backend_agg.py:183: RuntimeWarning: Glyph 54869 missing from current font.\n",
            "  font.set_text(s, 0, flags=flags)\n",
            "/usr/local/lib/python3.7/dist-packages/matplotlib/backends/backend_agg.py:183: RuntimeWarning: Glyph 46020 missing from current font.\n",
            "  font.set_text(s, 0, flags=flags)\n"
          ]
        },
        {
          "output_type": "display_data",
          "data": {
            "image/png": "[encoded data removed]",
            "text/plain": [
              "<Figure size 432x288 with 1 Axes>"
            ]
          },
          "metadata": {
            "needs_background": "light"
          }
        }
      ]
    },
    {
      "cell_type": "code",
      "source": [
        "#손실 함수 곡선\n",
        "plt.plot(hist.history['loss'])\n",
        "plt.plot(hist.history['val_loss'])\n",
        "plt.title('모델 손실도')\n",
        "plt.ylabel('Loss')\n",
        "plt.xlabel('Epoch')\n",
        "plt.legend(['Train','Validation'],loc='upper right')\n",
        "plt.grid()\n",
        "plt.show()"
      ],
      "metadata": {
        "colab": {
          "base_uri": "https://localhost:8080/",
          "height": 651
        },
        "id": "Rjb6rK8EP8Jt",
        "outputId": "353d4e1c-7cb4-48ab-ac8d-da64f02f2850"
      },
      "execution_count": 20,
      "outputs": [
        {
          "output_type": "stream",
          "name": "stderr",
          "text": [
            "/usr/local/lib/python3.7/dist-packages/matplotlib/backends/backend_agg.py:214: RuntimeWarning: Glyph 47784 missing from current font.\n",
            "  font.set_text(s, 0.0, flags=flags)\n",
            "/usr/local/lib/python3.7/dist-packages/matplotlib/backends/backend_agg.py:214: RuntimeWarning: Glyph 45944 missing from current font.\n",
            "  font.set_text(s, 0.0, flags=flags)\n",
            "/usr/local/lib/python3.7/dist-packages/matplotlib/backends/backend_agg.py:214: RuntimeWarning: Glyph 49552 missing from current font.\n",
            "  font.set_text(s, 0.0, flags=flags)\n",
            "/usr/local/lib/python3.7/dist-packages/matplotlib/backends/backend_agg.py:214: RuntimeWarning: Glyph 49892 missing from current font.\n",
            "  font.set_text(s, 0.0, flags=flags)\n",
            "/usr/local/lib/python3.7/dist-packages/matplotlib/backends/backend_agg.py:214: RuntimeWarning: Glyph 46020 missing from current font.\n",
            "  font.set_text(s, 0.0, flags=flags)\n",
            "/usr/local/lib/python3.7/dist-packages/matplotlib/backends/backend_agg.py:183: RuntimeWarning: Glyph 47784 missing from current font.\n",
            "  font.set_text(s, 0, flags=flags)\n",
            "/usr/local/lib/python3.7/dist-packages/matplotlib/backends/backend_agg.py:183: RuntimeWarning: Glyph 45944 missing from current font.\n",
            "  font.set_text(s, 0, flags=flags)\n",
            "/usr/local/lib/python3.7/dist-packages/matplotlib/backends/backend_agg.py:183: RuntimeWarning: Glyph 49552 missing from current font.\n",
            "  font.set_text(s, 0, flags=flags)\n",
            "/usr/local/lib/python3.7/dist-packages/matplotlib/backends/backend_agg.py:183: RuntimeWarning: Glyph 49892 missing from current font.\n",
            "  font.set_text(s, 0, flags=flags)\n",
            "/usr/local/lib/python3.7/dist-packages/matplotlib/backends/backend_agg.py:183: RuntimeWarning: Glyph 46020 missing from current font.\n",
            "  font.set_text(s, 0, flags=flags)\n"
          ]
        },
        {
          "output_type": "display_data",
          "data": {
            "image/png": "[encoded data removed]",
            "text/plain": [
              "<Figure size 432x288 with 1 Axes>"
            ]
          },
          "metadata": {
            "needs_background": "light"
          }
        }
      ]
    },
    {
      "cell_type": "code",
      "source": [
        ""
      ],
      "metadata": {
        "id": "oiXbT8A9QLRI"
      },
      "execution_count": null,
      "outputs": []
    }
  ]
}