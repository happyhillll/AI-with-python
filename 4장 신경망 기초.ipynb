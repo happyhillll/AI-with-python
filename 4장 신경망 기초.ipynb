{
 "cells": [
  {
   "cell_type": "markdown",
   "id": "35112fa0",
   "metadata": {},
   "source": [
    "퍼셉트론\n",
    "==================\n",
    "> 원리\n"
   ]
  },
  {
   "cell_type": "code",
   "execution_count": null,
   "id": "666e8140",
   "metadata": {},
   "outputs": [],
   "source": []
  }
 ],
 "metadata": {
  "kernelspec": {
   "display_name": "Python 3 (ipykernel)",
   "language": "python",
   "name": "python3"
  },
  "language_info": {
   "codemirror_mode": {
    "name": "ipython",
    "version": 3
   },
   "file_extension": ".py",
   "mimetype": "text/x-python",
   "name": "python",
   "nbconvert_exporter": "python",
   "pygments_lexer": "ipython3",
   "version": "3.9.7"
  }
 },
 "nbformat": 4,
 "nbformat_minor": 5
}
