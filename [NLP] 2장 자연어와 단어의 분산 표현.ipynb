{
 "cells": [
  {
   "cell_type": "code",
   "execution_count": 7,
   "id": "7c41ae77",
   "metadata": {},
   "outputs": [],
   "source": [
    "text='You say goodbye and I say hello.'"
   ]
  },
  {
   "cell_type": "code",
   "execution_count": 8,
   "id": "f491bbdf",
   "metadata": {},
   "outputs": [],
   "source": [
    "text=text.lower()"
   ]
  },
  {
   "cell_type": "code",
   "execution_count": 13,
   "id": "4cbe1cba",
   "metadata": {},
   "outputs": [
    {
     "data": {
      "text/plain": [
       "'you say goodbye and i say hello .'"
      ]
     },
     "execution_count": 13,
     "metadata": {},
     "output_type": "execute_result"
    }
   ],
   "source": [
    "text=text.replace('.',' .')\n",
    "text"
   ]
  },
  {
   "cell_type": "code",
   "execution_count": 14,
   "id": "3fe9187a",
   "metadata": {},
   "outputs": [],
   "source": [
    "words=text.split(' ')"
   ]
  },
  {
   "cell_type": "code",
   "execution_count": 15,
   "id": "3f22d189",
   "metadata": {},
   "outputs": [
    {
     "data": {
      "text/plain": [
       "['you', 'say', 'goodbye', 'and', 'i', 'say', 'hello', '.']"
      ]
     },
     "execution_count": 15,
     "metadata": {},
     "output_type": "execute_result"
    }
   ],
   "source": [
    "words"
   ]
  },
  {
   "cell_type": "markdown",
   "id": "130eb2d6",
   "metadata": {},
   "source": [
    "### 단어에 id를 부여하고, id의 리스트로 이용할 수 있도록"
   ]
  },
  {
   "cell_type": "code",
   "execution_count": 16,
   "id": "dc804797",
   "metadata": {},
   "outputs": [],
   "source": [
    "word_to_id={}\n",
    "id_to_word={}"
   ]
  },
  {
   "cell_type": "code",
   "execution_count": 17,
   "id": "b468b1cc",
   "metadata": {},
   "outputs": [],
   "source": [
    "for word in words:\n",
    "    if word not in word_to_id:\n",
    "        new_id=len(word_to_id)\n",
    "        word_to_id[word]=new_id\n",
    "        id_to_word[new_id]=word"
   ]
  },
  {
   "cell_type": "code",
   "execution_count": 18,
   "id": "1618165c",
   "metadata": {},
   "outputs": [
    {
     "data": {
      "text/plain": [
       "{0: 'you', 1: 'say', 2: 'goodbye', 3: 'and', 4: 'i', 5: 'hello', 6: '.'}"
      ]
     },
     "execution_count": 18,
     "metadata": {},
     "output_type": "execute_result"
    }
   ],
   "source": [
    "id_to_word"
   ]
  },
  {
   "cell_type": "code",
   "execution_count": 19,
   "id": "e671434d",
   "metadata": {},
   "outputs": [
    {
     "data": {
      "text/plain": [
       "{'you': 0, 'say': 1, 'goodbye': 2, 'and': 3, 'i': 4, 'hello': 5, '.': 6}"
      ]
     },
     "execution_count": 19,
     "metadata": {},
     "output_type": "execute_result"
    }
   ],
   "source": [
    "word_to_id"
   ]
  },
  {
   "cell_type": "code",
   "execution_count": 20,
   "id": "29f349e1",
   "metadata": {},
   "outputs": [
    {
     "data": {
      "text/plain": [
       "'say'"
      ]
     },
     "execution_count": 20,
     "metadata": {},
     "output_type": "execute_result"
    }
   ],
   "source": [
    "id_to_word[1]"
   ]
  },
  {
   "cell_type": "code",
   "execution_count": 21,
   "id": "19c6ea8b",
   "metadata": {},
   "outputs": [
    {
     "data": {
      "text/plain": [
       "5"
      ]
     },
     "execution_count": 21,
     "metadata": {},
     "output_type": "execute_result"
    }
   ],
   "source": [
    "word_to_id['hello']"
   ]
  },
  {
   "cell_type": "code",
   "execution_count": 23,
   "id": "56ffbfe1",
   "metadata": {},
   "outputs": [
    {
     "data": {
      "text/plain": [
       "array([0, 1, 2, 3, 4, 1, 5, 6])"
      ]
     },
     "execution_count": 23,
     "metadata": {},
     "output_type": "execute_result"
    }
   ],
   "source": [
    "import numpy as np\n",
    "corpus=[word_to_id[w] for w in words]\n",
    "corpus=np.array(corpus)\n",
    "corpus"
   ]
  },
  {
   "cell_type": "code",
   "execution_count": 73,
   "id": "b11a54ae",
   "metadata": {},
   "outputs": [],
   "source": [
    "def preprocess(text):\n",
    "    text=text.lower()\n",
    "    text=text.replace('.',' .')\n",
    "    words=text.split(' ')\n",
    "    word_to_id={}\n",
    "    id_to_word={}\n",
    "    for word in words:\n",
    "        if word not in word_to_id:\n",
    "            new_id=len(word_to_id)\n",
    "            word_to_id[word]=new_id\n",
    "            id_to_word[new_id]=word\n",
    "        \n",
    "    corpus=np.array([word_to_id[w] for w in words])\n",
    "    \n",
    "    return corpus,word_to_id,id_to_word"
   ]
  },
  {
   "cell_type": "code",
   "execution_count": 74,
   "id": "ba12f25f",
   "metadata": {},
   "outputs": [],
   "source": [
    "text='You say goodbye and i say hello.'\n",
    "corpus,word_to_id,id_to_word=preprocess(text)"
   ]
  },
  {
   "cell_type": "code",
   "execution_count": 97,
   "id": "7990d6bf",
   "metadata": {},
   "outputs": [
    {
     "name": "stdout",
     "output_type": "stream",
     "text": [
      "['/Users/minjikim/iCloud\\xa0Drive(아카이브)/Documents/GitHub/AI-by-PYTHON', '/Users/minjikim/opt/anaconda3/lib/python39.zip', '/Users/minjikim/opt/anaconda3/lib/python3.9', '/Users/minjikim/opt/anaconda3/lib/python3.9/lib-dynload', '', '/Users/minjikim/opt/anaconda3/lib/python3.9/site-packages', '/Users/minjikim/opt/anaconda3/lib/python3.9/site-packages/aeosa', '..', '..', '..', '..', '..', '..', '..', '..', '..', '..', '..', '/common', '/common/util', '/common/util', '..']\n"
     ]
    }
   ],
   "source": [
    "import sys\n",
    "print(sys.path)"
   ]
  },
  {
   "cell_type": "code",
   "execution_count": 99,
   "id": "ec41e257",
   "metadata": {},
   "outputs": [
    {
     "ename": "ModuleNotFoundError",
     "evalue": "No module named 'common.util'",
     "output_type": "error",
     "traceback": [
      "\u001b[0;31m---------------------------------------------------------------------------\u001b[0m",
      "\u001b[0;31mModuleNotFoundError\u001b[0m                       Traceback (most recent call last)",
      "Input \u001b[0;32mIn [99]\u001b[0m, in \u001b[0;36m<cell line: 3>\u001b[0;34m()\u001b[0m\n\u001b[1;32m      1\u001b[0m \u001b[38;5;28;01mimport\u001b[39;00m \u001b[38;5;21;01msys\u001b[39;00m\n\u001b[1;32m      2\u001b[0m \u001b[38;5;28;01mimport\u001b[39;00m \u001b[38;5;21;01mnumpy\u001b[39;00m \u001b[38;5;28;01mas\u001b[39;00m \u001b[38;5;21;01mnp\u001b[39;00m\n\u001b[0;32m----> 3\u001b[0m \u001b[38;5;28;01mfrom\u001b[39;00m \u001b[38;5;21;01mcommon\u001b[39;00m\u001b[38;5;21;01m.\u001b[39;00m\u001b[38;5;21;01mutil\u001b[39;00m \u001b[38;5;28;01mimport\u001b[39;00m preprocess\n\u001b[1;32m      4\u001b[0m text\u001b[38;5;241m=\u001b[39m\u001b[38;5;124m'\u001b[39m\u001b[38;5;124mYou say goodbye and I say hello.\u001b[39m\u001b[38;5;124m'\u001b[39m\n\u001b[1;32m      5\u001b[0m corpus,word_to_id,id_to_word\u001b[38;5;241m=\u001b[39mpreprocess(text)\n",
      "\u001b[0;31mModuleNotFoundError\u001b[0m: No module named 'common.util'"
     ]
    }
   ],
   "source": [
    "import sys\n",
    "import numpy as np\n",
    "from common.util import preprocess\n",
    "text='You say goodbye and I say hello.'\n",
    "corpus,word_to_id,id_to_word=preprocess(text)"
   ]
  },
  {
   "cell_type": "code",
   "execution_count": 100,
   "id": "1b930059",
   "metadata": {},
   "outputs": [
    {
     "name": "stdout",
     "output_type": "stream",
     "text": [
      "[0 1 2 3 4 1 5 6]\n"
     ]
    }
   ],
   "source": [
    "print(corpus)"
   ]
  },
  {
   "cell_type": "code",
   "execution_count": 101,
   "id": "dd0f5d5e",
   "metadata": {},
   "outputs": [
    {
     "name": "stdout",
     "output_type": "stream",
     "text": [
      "{0: 'you', 1: 'say', 2: 'goodbye', 3: 'and', 4: 'i', 5: 'hello', 6: '.'}\n"
     ]
    }
   ],
   "source": [
    "print(id_to_word)"
   ]
  },
  {
   "cell_type": "markdown",
   "id": "ac3d5b1d",
   "metadata": {},
   "source": [
    "## 동시 발생 행렬"
   ]
  },
  {
   "cell_type": "code",
   "execution_count": 102,
   "id": "b1ec6191",
   "metadata": {},
   "outputs": [],
   "source": [
    "C=np.array([\n",
    "    [0,1,0,0,0,0,0],\n",
    "    [1,0,1,0,1,1,0],\n",
    "    [0,1,0,1,0,0,0],\n",
    "    [0,1,0,0,0,0,1],\n",
    "    [0,0,0,0,0,1,0],\n",
    "],dtype=np.int32)"
   ]
  },
  {
   "cell_type": "code",
   "execution_count": 103,
   "id": "d2cfee55",
   "metadata": {},
   "outputs": [
    {
     "name": "stdout",
     "output_type": "stream",
     "text": [
      "[0 1 0 0 0 0 0]\n"
     ]
    }
   ],
   "source": [
    "print(C[0]) #id가 0인 단어의 벡터 표현"
   ]
  },
  {
   "cell_type": "code",
   "execution_count": 105,
   "id": "bd5c18e2",
   "metadata": {},
   "outputs": [
    {
     "name": "stdout",
     "output_type": "stream",
     "text": [
      "[1 0 1 0 1 1 0]\n"
     ]
    }
   ],
   "source": [
    "print(C[word_to_id['say']])"
   ]
  },
  {
   "cell_type": "code",
   "execution_count": 106,
   "id": "a67adca9",
   "metadata": {},
   "outputs": [],
   "source": [
    "def creat_co_matrix(corpus,vocab_size,window_size=1):\n",
    "    corpus_size=len(corpus)\n",
    "    co_matrix=np.zeros((vocab_size,vocab_size),dtype=np.int32)\n",
    "    \n",
    "    for idx,word_id in enumerate(corpus):\n",
    "        for i in range(1,window_size+1):\n",
    "            left_idx=idx-i\n",
    "            right_idx=idx+i\n",
    "            \n",
    "            if left_idx>=0:\n",
    "                left_word_id=corpus[left_idx]\n",
    "                co_matrix[word_id,left_word_id]+=1\n",
    "            if right_idx<corpus_size:\n",
    "                right_word_id=corpus[right_idx]\n",
    "                co_matrix[word_id,right_word_id]+=1\n",
    "    return co_matrix"
   ]
  },
  {
   "cell_type": "code",
   "execution_count": 108,
   "id": "03a05721",
   "metadata": {},
   "outputs": [
    {
     "name": "stdout",
     "output_type": "stream",
     "text": [
      "['/Users/minjikim/iCloud\\xa0Drive(아카이브)/Documents/GitHub/AI-by-PYTHON', '/Users/minjikim/opt/anaconda3/lib/python39.zip', '/Users/minjikim/opt/anaconda3/lib/python3.9', '/Users/minjikim/opt/anaconda3/lib/python3.9/lib-dynload', '', '/Users/minjikim/opt/anaconda3/lib/python3.9/site-packages', '/Users/minjikim/opt/anaconda3/lib/python3.9/site-packages/aeosa', '..', '..', '..', '..', '..', '..', '..', '..', '..', '..', '..', '/common', '/common/util', '/common/util', '..']\n"
     ]
    }
   ],
   "source": [
    "import sys\n",
    "print(sys.path)"
   ]
  },
  {
   "cell_type": "code",
   "execution_count": null,
   "id": "811e87e3",
   "metadata": {},
   "outputs": [],
   "source": []
  }
 ],
 "metadata": {
  "kernelspec": {
   "display_name": "Python 3 (ipykernel)",
   "language": "python",
   "name": "python3"
  },
  "language_info": {
   "codemirror_mode": {
    "name": "ipython",
    "version": 3
   },
   "file_extension": ".py",
   "mimetype": "text/x-python",
   "name": "python",
   "nbconvert_exporter": "python",
   "pygments_lexer": "ipython3",
   "version": "3.9.7"
  }
 },
 "nbformat": 4,
 "nbformat_minor": 5
}
